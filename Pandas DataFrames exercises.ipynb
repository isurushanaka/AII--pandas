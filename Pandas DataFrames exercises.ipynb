{
  "cells": [
    {
      "cell_type": "markdown",
      "metadata": {
        "id": "view-in-github",
        "colab_type": "text"
      },
      "source": [
        "<a href=\"https://colab.research.google.com/github/isurushanaka/AII--pandas/blob/master/Pandas%20DataFrames%20exercises.ipynb\" target=\"_parent\"><img src=\"https://colab.research.google.com/assets/colab-badge.svg\" alt=\"Open In Colab\"/></a>"
      ]
    },
    {
      "cell_type": "markdown",
      "metadata": {
        "id": "rqDhkV4Kdcb4"
      },
      "source": [
        "# Pandas DataFrame exercises\n"
      ]
    },
    {
      "cell_type": "code",
      "execution_count": null,
      "metadata": {
        "id": "FxlqeChzdccA"
      },
      "outputs": [],
      "source": [
        "# Import the numpy package under the name np\n",
        "import numpy as np\n",
        "\n",
        "# Import the pandas package under the name pd\n",
        "import pandas as pd\n",
        "\n",
        "# Import the matplotlib package under the name plt\n",
        "import matplotlib.pyplot as plt\n",
        "%matplotlib inline\n",
        "\n",
        "# Print the pandas version and the configuration\n",
        "print(pd.__version__)"
      ]
    },
    {
      "cell_type": "markdown",
      "metadata": {
        "id": "k98wB11gdccD"
      },
      "source": [
        "![purple-divider](https://user-images.githubusercontent.com/7065401/52071927-c1cd7100-2562-11e9-908a-dde91ba14e59.png)\n",
        "\n",
        "## DataFrame creation"
      ]
    },
    {
      "cell_type": "markdown",
      "metadata": {
        "id": "fdrIpPXidccD"
      },
      "source": [
        "### Create an empty pandas DataFrame\n"
      ]
    },
    {
      "cell_type": "code",
      "execution_count": null,
      "metadata": {
        "id": "X1cA_mwldccE"
      },
      "outputs": [],
      "source": [
        "# your code goes here\n"
      ]
    },
    {
      "cell_type": "code",
      "execution_count": null,
      "metadata": {
        "cell_type": "solution",
        "id": "yd911wUZdccF"
      },
      "outputs": [],
      "source": [
        "pd.DataFrame(data=[None],\n",
        "             index=[None],\n",
        "             columns=[None])"
      ]
    },
    {
      "cell_type": "markdown",
      "metadata": {
        "id": "sQwndPIMdccI"
      },
      "source": [
        "<img width=400 src=\"https://cdn.dribbble.com/users/4678/screenshots/1986600/avengers.png\"></img>"
      ]
    },
    {
      "cell_type": "markdown",
      "metadata": {
        "id": "pA860fyAdccM"
      },
      "source": [
        "![green-divider](https://user-images.githubusercontent.com/7065401/52071924-c003ad80-2562-11e9-8297-1c6595f8a7ff.png)\n",
        "\n",
        "### Create a `marvel_df` pandas DataFrame with the given marvel data\n"
      ]
    },
    {
      "cell_type": "code",
      "execution_count": null,
      "metadata": {
        "id": "C9cdAUC-dccO"
      },
      "outputs": [],
      "source": [
        "marvel_data = [\n",
        "    ['Spider-Man', 'male', 1962],\n",
        "    ['Captain America', 'male', 1941],\n",
        "    ['Wolverine', 'male', 1974],\n",
        "    ['Iron Man', 'male', 1963],\n",
        "    ['Thor', 'male', 1963],\n",
        "    ['Thing', 'male', 1961],\n",
        "    ['Mister Fantastic', 'male', 1961],\n",
        "    ['Hulk', 'male', 1962],\n",
        "    ['Beast', 'male', 1963],\n",
        "    ['Invisible Woman', 'female', 1961],\n",
        "    ['Storm', 'female', 1975],\n",
        "    ['Namor', 'male', 1939],\n",
        "    ['Hawkeye', 'male', 1964],\n",
        "    ['Daredevil', 'male', 1964],\n",
        "    ['Doctor Strange', 'male', 1963],\n",
        "    ['Hank Pym', 'male', 1962],\n",
        "    ['Scarlet Witch', 'female', 1964],\n",
        "    ['Wasp', 'female', 1963],\n",
        "    ['Black Widow', 'female', 1964],\n",
        "    ['Vision', 'male', 1968]\n",
        "]"
      ]
    },
    {
      "cell_type": "code",
      "execution_count": null,
      "metadata": {
        "id": "YFon7qg2dccQ"
      },
      "outputs": [],
      "source": [
        "# your code goes here\n"
      ]
    },
    {
      "cell_type": "code",
      "execution_count": null,
      "metadata": {
        "cell_type": "solution",
        "id": "fBNVyO07dccR"
      },
      "outputs": [],
      "source": [
        "marvel_df = pd.DataFrame(data=marvel_data)\n",
        "\n",
        "marvel_df"
      ]
    },
    {
      "cell_type": "markdown",
      "metadata": {
        "id": "ow_3fOKOdccS"
      },
      "source": [
        "![green-divider](https://user-images.githubusercontent.com/7065401/52071924-c003ad80-2562-11e9-8297-1c6595f8a7ff.png)\n",
        "\n",
        "### Add column names to the `marvel_df`\n",
        " "
      ]
    },
    {
      "cell_type": "code",
      "execution_count": null,
      "metadata": {
        "id": "kYttEN8BdccU"
      },
      "outputs": [],
      "source": [
        "# your code goes here\n"
      ]
    },
    {
      "cell_type": "code",
      "execution_count": null,
      "metadata": {
        "cell_type": "solution",
        "id": "Up2aVT3pdccU"
      },
      "outputs": [],
      "source": [
        "col_names = ['name', 'sex', 'first_appearance']\n",
        "\n",
        "marvel_df.columns = col_names\n",
        "marvel_df"
      ]
    },
    {
      "cell_type": "markdown",
      "metadata": {
        "id": "AR3FknaPdccV"
      },
      "source": [
        "![green-divider](https://user-images.githubusercontent.com/7065401/52071924-c003ad80-2562-11e9-8297-1c6595f8a7ff.png)\n",
        "\n",
        "### Add index names to the `marvel_df` (use the character name as index)\n"
      ]
    },
    {
      "cell_type": "code",
      "execution_count": null,
      "metadata": {
        "id": "pVxzuhJ0dccW"
      },
      "outputs": [],
      "source": [
        "# your code goes here\n"
      ]
    },
    {
      "cell_type": "code",
      "execution_count": null,
      "metadata": {
        "cell_type": "solution",
        "id": "o0vGZCaAdccY"
      },
      "outputs": [],
      "source": [
        "marvel_df.index = marvel_df['name']\n",
        "marvel_df"
      ]
    },
    {
      "cell_type": "markdown",
      "metadata": {
        "id": "-Rx4I0k0dccZ"
      },
      "source": [
        "![green-divider](https://user-images.githubusercontent.com/7065401/52071924-c003ad80-2562-11e9-8297-1c6595f8a7ff.png)\n",
        "\n",
        "### Drop the name column as it's now the index"
      ]
    },
    {
      "cell_type": "code",
      "execution_count": null,
      "metadata": {
        "id": "wlXUrchEdcca"
      },
      "outputs": [],
      "source": [
        "# your code goes here\n"
      ]
    },
    {
      "cell_type": "code",
      "execution_count": null,
      "metadata": {
        "cell_type": "solution",
        "id": "MNpNEwg3dcca"
      },
      "outputs": [],
      "source": [
        "#marvel_df = marvel_df.drop(columns=['name'])\n",
        "marvel_df = marvel_df.drop(['name'], axis=1)\n",
        "marvel_df"
      ]
    },
    {
      "cell_type": "markdown",
      "metadata": {
        "id": "7DCM5P25dccb"
      },
      "source": [
        "![green-divider](https://user-images.githubusercontent.com/7065401/52071924-c003ad80-2562-11e9-8297-1c6595f8a7ff.png)\n",
        "\n",
        "### Drop 'Namor' and 'Hank Pym' rows\n"
      ]
    },
    {
      "cell_type": "code",
      "execution_count": null,
      "metadata": {
        "id": "fwUKgnqTdccb"
      },
      "outputs": [],
      "source": [
        "# your code goes here\n"
      ]
    },
    {
      "cell_type": "code",
      "execution_count": null,
      "metadata": {
        "cell_type": "solution",
        "id": "nFIEUYArdccc"
      },
      "outputs": [],
      "source": [
        "marvel_df = marvel_df.drop(['Namor', 'Hank Pym'], axis=0)\n",
        "marvel_df"
      ]
    },
    {
      "cell_type": "markdown",
      "metadata": {
        "id": "qSwOJ-c-dccd"
      },
      "source": [
        "![purple-divider](https://user-images.githubusercontent.com/7065401/52071927-c1cd7100-2562-11e9-908a-dde91ba14e59.png)\n",
        "\n",
        "## DataFrame selection, slicing and indexation"
      ]
    },
    {
      "cell_type": "markdown",
      "metadata": {
        "id": "4FFxE7JKdccd"
      },
      "source": [
        "### Show the first 5 elements on `marvel_df`\n",
        " "
      ]
    },
    {
      "cell_type": "code",
      "execution_count": null,
      "metadata": {
        "id": "JH3wyWM8dcce"
      },
      "outputs": [],
      "source": [
        "# your code goes here\n"
      ]
    },
    {
      "cell_type": "code",
      "execution_count": null,
      "metadata": {
        "cell_type": "solution",
        "id": "tcWK7x69dcce"
      },
      "outputs": [],
      "source": [
        "#marvel_df.loc[['Spider-Man', 'Captain America', 'Wolverine', 'Iron Man', 'Thor'], :] # bad!\n",
        "#marvel_df.loc['Spider-Man': 'Thor', :]\n",
        "#marvel_df.iloc[0:5, :]\n",
        "#marvel_df.iloc[0:5,]\n",
        "marvel_df.iloc[:5,]\n",
        "#marvel_df.head()"
      ]
    },
    {
      "cell_type": "markdown",
      "metadata": {
        "id": "RsvnUM92dccf"
      },
      "source": [
        "![green-divider](https://user-images.githubusercontent.com/7065401/52071924-c003ad80-2562-11e9-8297-1c6595f8a7ff.png)\n",
        "\n",
        "### Show the last 5 elements on `marvel_df`\n"
      ]
    },
    {
      "cell_type": "code",
      "execution_count": null,
      "metadata": {
        "id": "6KLUAW0Hdccf"
      },
      "outputs": [],
      "source": [
        "# your code goes here\n"
      ]
    },
    {
      "cell_type": "code",
      "execution_count": null,
      "metadata": {
        "cell_type": "solution",
        "id": "kN5_THKNdccg"
      },
      "outputs": [],
      "source": [
        "#marvel_df.loc[['Hank Pym', 'Scarlet Witch', 'Wasp', 'Black Widow', 'Vision'], :] # bad!\n",
        "#marvel_df.loc['Hank Pym':'Vision', :]\n",
        "marvel_df.iloc[-5:,]\n",
        "#marvel_df.tail()"
      ]
    },
    {
      "cell_type": "markdown",
      "metadata": {
        "id": "7DDB9xohdccg"
      },
      "source": [
        "![green-divider](https://user-images.githubusercontent.com/7065401/52071924-c003ad80-2562-11e9-8297-1c6595f8a7ff.png)\n",
        "\n",
        "### Show just the sex of the first 5 elements on `marvel_df`"
      ]
    },
    {
      "cell_type": "code",
      "execution_count": null,
      "metadata": {
        "id": "a1mFyRDcdccg"
      },
      "outputs": [],
      "source": [
        "# your code goes here\n"
      ]
    },
    {
      "cell_type": "code",
      "execution_count": null,
      "metadata": {
        "cell_type": "solution",
        "id": "XNkZeDasdccg"
      },
      "outputs": [],
      "source": [
        "#marvel_df.iloc[:5,]['sex'].to_frame()\n",
        "marvel_df.iloc[:5,].sex.to_frame()\n",
        "#marvel_df.head().sex.to_frame()"
      ]
    },
    {
      "cell_type": "markdown",
      "metadata": {
        "id": "TsJuo0Pfdcch"
      },
      "source": [
        "![green-divider](https://user-images.githubusercontent.com/7065401/52071924-c003ad80-2562-11e9-8297-1c6595f8a7ff.png)\n",
        "\n",
        "### Show the first_appearance of all middle elements on `marvel_df` "
      ]
    },
    {
      "cell_type": "code",
      "execution_count": null,
      "metadata": {
        "id": "r7k48C84dcch"
      },
      "outputs": [],
      "source": [
        "# your code goes here\n"
      ]
    },
    {
      "cell_type": "code",
      "execution_count": null,
      "metadata": {
        "cell_type": "solution",
        "id": "CEoKfrCFdcch"
      },
      "outputs": [],
      "source": [
        "marvel_df.iloc[1:-1,].first_appearance.to_frame()"
      ]
    },
    {
      "cell_type": "markdown",
      "metadata": {
        "id": "v_r4NzCQdcci"
      },
      "source": [
        "![green-divider](https://user-images.githubusercontent.com/7065401/52071924-c003ad80-2562-11e9-8297-1c6595f8a7ff.png)\n",
        "\n",
        "### Show the first and last elements on `marvel_df`\n"
      ]
    },
    {
      "cell_type": "code",
      "execution_count": null,
      "metadata": {
        "id": "Li4f1ztXdccj"
      },
      "outputs": [],
      "source": [
        "# your code goes here\n"
      ]
    },
    {
      "cell_type": "code",
      "execution_count": null,
      "metadata": {
        "cell_type": "solution",
        "id": "fLRRZ4QOdccj"
      },
      "outputs": [],
      "source": [
        "#marvel_df.iloc[[0, -1],][['sex', 'first_appearance']]\n",
        "marvel_df.iloc[[0, -1],]"
      ]
    },
    {
      "cell_type": "markdown",
      "metadata": {
        "id": "5nZ4Ahjtdccz"
      },
      "source": [
        "![purple-divider](https://user-images.githubusercontent.com/7065401/52071927-c1cd7100-2562-11e9-908a-dde91ba14e59.png)\n",
        "\n",
        "## DataFrame manipulation and operations"
      ]
    },
    {
      "cell_type": "markdown",
      "metadata": {
        "id": "0A9VzDtMdccz"
      },
      "source": [
        "### Modify the `first_appearance` of 'Vision' to year 1964"
      ]
    },
    {
      "cell_type": "code",
      "execution_count": null,
      "metadata": {
        "id": "8_WZiqK_dccz"
      },
      "outputs": [],
      "source": [
        "# your code goes here\n"
      ]
    },
    {
      "cell_type": "code",
      "execution_count": null,
      "metadata": {
        "cell_type": "solution",
        "id": "dEB8FdjOdcc0"
      },
      "outputs": [],
      "source": [
        "marvel_df.loc['Vision', 'first_appearance'] = 1964\n",
        "\n",
        "marvel_df"
      ]
    },
    {
      "cell_type": "markdown",
      "metadata": {
        "id": "Q5GUTPKDdcc0"
      },
      "source": [
        "![green-divider](https://user-images.githubusercontent.com/7065401/52071924-c003ad80-2562-11e9-8297-1c6595f8a7ff.png)\n",
        "\n",
        "### Add a new column to `marvel_df` called 'years_since' with the years since `first_appearance`\n"
      ]
    },
    {
      "cell_type": "code",
      "execution_count": null,
      "metadata": {
        "id": "NbwhEBsLdcc1"
      },
      "outputs": [],
      "source": [
        "# your code goes here\n"
      ]
    },
    {
      "cell_type": "code",
      "execution_count": null,
      "metadata": {
        "cell_type": "solution",
        "id": "poLeymxPdcc1"
      },
      "outputs": [],
      "source": [
        "marvel_df['years_since'] = 2018 - marvel_df['first_appearance']\n",
        "\n",
        "marvel_df"
      ]
    },
    {
      "cell_type": "markdown",
      "metadata": {
        "id": "G-m5l1VRdcc1"
      },
      "source": [
        "![purple-divider](https://user-images.githubusercontent.com/7065401/52071927-c1cd7100-2562-11e9-908a-dde91ba14e59.png)\n",
        "\n",
        "## DataFrame boolean arrays (also called masks)"
      ]
    },
    {
      "cell_type": "markdown",
      "metadata": {
        "id": "iZuG2bosdcc2"
      },
      "source": [
        "### Given the `marvel_df` pandas DataFrame, make a mask showing the female characters\n"
      ]
    },
    {
      "cell_type": "code",
      "execution_count": null,
      "metadata": {
        "id": "l55Znty_dcc2"
      },
      "outputs": [],
      "source": [
        "# your code goes here\n"
      ]
    },
    {
      "cell_type": "code",
      "execution_count": null,
      "metadata": {
        "cell_type": "solution",
        "id": "RHuUhxKtdcc2"
      },
      "outputs": [],
      "source": [
        "mask = marvel_df['sex'] == 'female'\n",
        "\n",
        "mask"
      ]
    },
    {
      "cell_type": "markdown",
      "metadata": {
        "id": "hJ6C399Ydcc3"
      },
      "source": [
        "![green-divider](https://user-images.githubusercontent.com/7065401/52071924-c003ad80-2562-11e9-8297-1c6595f8a7ff.png)\n",
        "\n",
        "### Given the `marvel_df` pandas DataFrame, get the male characters\n"
      ]
    },
    {
      "cell_type": "code",
      "execution_count": null,
      "metadata": {
        "id": "GCdYQFDAdcc3"
      },
      "outputs": [],
      "source": [
        "# your code goes here\n"
      ]
    },
    {
      "cell_type": "code",
      "execution_count": null,
      "metadata": {
        "cell_type": "solution",
        "id": "PTNeTkWsdcc3"
      },
      "outputs": [],
      "source": [
        "mask = marvel_df['sex'] == 'male'\n",
        "\n",
        "marvel_df[mask]"
      ]
    },
    {
      "cell_type": "markdown",
      "metadata": {
        "id": "fCMqcvMAdcc7"
      },
      "source": [
        "![green-divider](https://user-images.githubusercontent.com/7065401/52071924-c003ad80-2562-11e9-8297-1c6595f8a7ff.png)\n",
        "\n",
        "### Given the `marvel_df` pandas DataFrame, get the characters with `first_appearance` after 1970\n"
      ]
    },
    {
      "cell_type": "code",
      "execution_count": null,
      "metadata": {
        "id": "YxOB93PMdcc8"
      },
      "outputs": [],
      "source": [
        "# your code goes here\n"
      ]
    },
    {
      "cell_type": "code",
      "execution_count": null,
      "metadata": {
        "cell_type": "solution",
        "id": "8Ae86XgRdcc8"
      },
      "outputs": [],
      "source": [
        "mask = marvel_df['first_appearance'] > 1970\n",
        "\n",
        "marvel_df[mask]"
      ]
    },
    {
      "cell_type": "markdown",
      "metadata": {
        "id": "TW_HSz0Mdcc8"
      },
      "source": [
        "![green-divider](https://user-images.githubusercontent.com/7065401/52071924-c003ad80-2562-11e9-8297-1c6595f8a7ff.png)\n",
        "\n",
        "### Given the `marvel_df` pandas DataFrame, get the female characters with `first_appearance` after 1970"
      ]
    },
    {
      "cell_type": "code",
      "execution_count": null,
      "metadata": {
        "id": "J1a5Z3FAdcc9"
      },
      "outputs": [],
      "source": [
        "# your code goes here\n"
      ]
    },
    {
      "cell_type": "code",
      "execution_count": null,
      "metadata": {
        "cell_type": "solution",
        "scrolled": true,
        "id": "Q5_D_RF_dcc9"
      },
      "outputs": [],
      "source": [
        "mask = (marvel_df['sex'] == 'female') & (marvel_df['first_appearance'] > 1970)\n",
        "\n",
        "marvel_df[mask]"
      ]
    },
    {
      "cell_type": "markdown",
      "metadata": {
        "id": "MDR-ckVBdcc9"
      },
      "source": [
        "![purple-divider](https://user-images.githubusercontent.com/7065401/52071927-c1cd7100-2562-11e9-908a-dde91ba14e59.png)\n",
        "\n",
        "## DataFrame summary statistics"
      ]
    },
    {
      "cell_type": "markdown",
      "metadata": {
        "id": "9QsBb7AGdcc-"
      },
      "source": [
        "### Show basic statistics of `marvel_df`"
      ]
    },
    {
      "cell_type": "code",
      "execution_count": null,
      "metadata": {
        "id": "CpE3AEpudcc-"
      },
      "outputs": [],
      "source": [
        "# your code goes here\n"
      ]
    },
    {
      "cell_type": "code",
      "execution_count": null,
      "metadata": {
        "cell_type": "solution",
        "id": "viESXj5Kdcc-"
      },
      "outputs": [],
      "source": [
        "marvel_df.describe()"
      ]
    },
    {
      "cell_type": "markdown",
      "metadata": {
        "id": "RsQxs7QFdcc_"
      },
      "source": [
        "![green-divider](https://user-images.githubusercontent.com/7065401/52071924-c003ad80-2562-11e9-8297-1c6595f8a7ff.png)\n",
        "\n",
        "### Given the `marvel_df` pandas DataFrame, show the mean value of `first_appearance`"
      ]
    },
    {
      "cell_type": "code",
      "execution_count": null,
      "metadata": {
        "id": "Suj9NaLddcc_"
      },
      "outputs": [],
      "source": [
        "# your code goes here\n"
      ]
    },
    {
      "cell_type": "code",
      "execution_count": null,
      "metadata": {
        "cell_type": "solution",
        "id": "hSmT0eNadcc_"
      },
      "outputs": [],
      "source": [
        "\n",
        "#np.mean(marvel_df.first_appearance)\n",
        "marvel_df.first_appearance.mean()"
      ]
    },
    {
      "cell_type": "markdown",
      "metadata": {
        "id": "wYKGUgI2dcdA"
      },
      "source": [
        "![green-divider](https://user-images.githubusercontent.com/7065401/52071924-c003ad80-2562-11e9-8297-1c6595f8a7ff.png)\n",
        "\n",
        "### Given the `marvel_df` pandas DataFrame, show the min value of `first_appearance`\n"
      ]
    },
    {
      "cell_type": "code",
      "execution_count": null,
      "metadata": {
        "id": "7wDSnMQfdcdA"
      },
      "outputs": [],
      "source": [
        "# your code goes here\n"
      ]
    },
    {
      "cell_type": "code",
      "execution_count": null,
      "metadata": {
        "cell_type": "solution",
        "id": "Cr7MiLozdcdA"
      },
      "outputs": [],
      "source": [
        "#np.min(marvel_df.first_appearance)\n",
        "marvel_df.first_appearance.min()"
      ]
    },
    {
      "cell_type": "markdown",
      "metadata": {
        "id": "tjx_YMiUdcdB"
      },
      "source": [
        "![green-divider](https://user-images.githubusercontent.com/7065401/52071924-c003ad80-2562-11e9-8297-1c6595f8a7ff.png)\n",
        "\n",
        "### Given the `marvel_df` pandas DataFrame, get the characters with the min value of `first_appearance`"
      ]
    },
    {
      "cell_type": "code",
      "execution_count": null,
      "metadata": {
        "id": "CCAKEDZadcdB"
      },
      "outputs": [],
      "source": [
        "# your code goes here\n"
      ]
    },
    {
      "cell_type": "code",
      "execution_count": null,
      "metadata": {
        "cell_type": "solution",
        "id": "efaSclXJdcdC"
      },
      "outputs": [],
      "source": [
        "mask = marvel_df['first_appearance'] == marvel_df.first_appearance.min()\n",
        "marvel_df[mask]"
      ]
    },
    {
      "cell_type": "markdown",
      "metadata": {
        "id": "dvAlXMDBdcdC"
      },
      "source": [
        "![purple-divider](https://user-images.githubusercontent.com/7065401/52071927-c1cd7100-2562-11e9-908a-dde91ba14e59.png)\n",
        "\n",
        "## DataFrame basic plottings"
      ]
    },
    {
      "cell_type": "markdown",
      "metadata": {
        "id": "StQvI5_ddcdC"
      },
      "source": [
        "### Reset index names of `marvel_df`\n"
      ]
    },
    {
      "cell_type": "code",
      "execution_count": null,
      "metadata": {
        "id": "ZDZgXQA2dcdD"
      },
      "outputs": [],
      "source": [
        "# your code goes here\n"
      ]
    },
    {
      "cell_type": "code",
      "execution_count": null,
      "metadata": {
        "cell_type": "solution",
        "id": "C5VJQ9SWdcdD"
      },
      "outputs": [],
      "source": [
        "marvel_df = marvel_df.reset_index()\n",
        "\n",
        "marvel_df"
      ]
    },
    {
      "cell_type": "markdown",
      "metadata": {
        "id": "tUNgRvGodcdD"
      },
      "source": [
        "![green-divider](https://user-images.githubusercontent.com/7065401/52071924-c003ad80-2562-11e9-8297-1c6595f8a7ff.png)\n",
        "\n",
        "### Plot the values of `first_appearance`\n"
      ]
    },
    {
      "cell_type": "code",
      "execution_count": null,
      "metadata": {
        "id": "ezzR-_1ndcdE"
      },
      "outputs": [],
      "source": [
        "# your code goes here\n"
      ]
    },
    {
      "cell_type": "code",
      "execution_count": null,
      "metadata": {
        "cell_type": "solution",
        "id": "hOOaFW-JdcdF"
      },
      "outputs": [],
      "source": [
        "#plt.plot(marvel_df.index, marvel_df.first_appearance)\n",
        "marvel_df.first_appearance.plot()"
      ]
    },
    {
      "cell_type": "markdown",
      "metadata": {
        "id": "2jWA4DLIdcdF"
      },
      "source": [
        "![green-divider](https://user-images.githubusercontent.com/7065401/52071924-c003ad80-2562-11e9-8297-1c6595f8a7ff.png)\n",
        "\n",
        "### Plot a histogram (plot.hist) with values of `first_appearance`\n"
      ]
    },
    {
      "cell_type": "code",
      "execution_count": null,
      "metadata": {
        "id": "4tE1jFCSdcdG"
      },
      "outputs": [],
      "source": [
        "# your code goes here\n"
      ]
    },
    {
      "cell_type": "code",
      "execution_count": null,
      "metadata": {
        "cell_type": "solution",
        "id": "dDnqsbWtdcdI"
      },
      "outputs": [],
      "source": [
        "\n",
        "plt.hist(marvel_df.first_appearance)"
      ]
    },
    {
      "cell_type": "markdown",
      "metadata": {
        "id": "6vQamaMpdcdK"
      },
      "source": [
        "![purple-divider](https://user-images.githubusercontent.com/7065401/52071927-c1cd7100-2562-11e9-908a-dde91ba14e59.png)\n"
      ]
    }
  ],
  "metadata": {
    "kernelspec": {
      "display_name": "Python 3 (ipykernel)",
      "language": "python",
      "name": "python3"
    },
    "language_info": {
      "codemirror_mode": {
        "name": "ipython",
        "version": 3
      },
      "file_extension": ".py",
      "mimetype": "text/x-python",
      "name": "python",
      "nbconvert_exporter": "python",
      "pygments_lexer": "ipython3",
      "version": "3.10.8"
    },
    "colab": {
      "provenance": [],
      "include_colab_link": true
    }
  },
  "nbformat": 4,
  "nbformat_minor": 0
}